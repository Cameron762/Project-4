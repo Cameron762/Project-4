{
 "cells": [
  {
   "cell_type": "code",
   "execution_count": 1,
   "id": "0ab3ef6b",
   "metadata": {},
   "outputs": [
    {
     "name": "stderr",
     "output_type": "stream",
     "text": [
      "24/02/27 19:38:14 WARN Utils: Your hostname, Cameron-Wades-MacBook-Pro.local resolves to a loopback address: 127.0.0.1; using 192.168.68.55 instead (on interface en0)\n",
      "24/02/27 19:38:14 WARN Utils: Set SPARK_LOCAL_IP if you need to bind to another address\n",
      "Setting default log level to \"WARN\".\n",
      "To adjust logging level use sc.setLogLevel(newLevel). For SparkR, use setLogLevel(newLevel).\n",
      "24/02/27 19:38:15 WARN NativeCodeLoader: Unable to load native-hadoop library for your platform... using builtin-java classes where applicable\n"
     ]
    }
   ],
   "source": [
    "import pandas as pd\n",
    "import findspark\n",
    "findspark.init()\n",
    "import pyspark\n",
    "from pyspark.sql import SparkSession\n",
    "spark = SparkSession.builder.appName(\"ReadCSV\").getOrCreate()"
   ]
  },
  {
   "cell_type": "code",
   "execution_count": 2,
   "id": "7ada3e27",
   "metadata": {},
   "outputs": [
    {
     "name": "stderr",
     "output_type": "stream",
     "text": [
      "                                                                                \r"
     ]
    },
    {
     "name": "stdout",
     "output_type": "stream",
     "text": [
      "+-----------+------+-----------+----------------+---------------------+------------+------------+---------------+--------------------+-----------------------------+---------------------------+--------------+----------------------+-------------------------+----------------------------+----------------------------+-----------------+--------------------+--------------------+--------------+\n",
      "|  Body Type|   Sex|       Diet|How Often Shower|Heating Energy Source|   Transport|Vehicle Type|Social Activity|Monthly Grocery Bill|Frequency of Traveling by Air|Vehicle Monthly Distance Km|Waste Bag Size|Waste Bag Weekly Count|How Long TV PC Daily Hour|How Many New Clothes Monthly|How Long Internet Daily Hour|Energy efficiency|           Recycling|        Cooking_With|CarbonEmission|\n",
      "+-----------+------+-----------+----------------+---------------------+------------+------------+---------------+--------------------+-----------------------------+---------------------------+--------------+----------------------+-------------------------+----------------------------+----------------------------+-----------------+--------------------+--------------------+--------------+\n",
      "| overweight|female|pescatarian|           daily|                 coal|      public|        NULL|          often|                 230|                   frequently|                        210|         large|                     4|                        7|                          26|                           1|               No|           ['Metal']|   ['Stove', 'Oven']|          2238|\n",
      "|      obese|female| vegetarian| less frequently|          natural gas|walk/bicycle|        NULL|          often|                 114|                       rarely|                          9|   extra large|                     3|                        9|                          38|                           5|               No|           ['Metal']|['Stove', 'Microw...|          1892|\n",
      "| overweight|  male|   omnivore| more frequently|                 wood|     private|      petrol|          never|                 138|                        never|                       2472|         small|                     1|                       14|                          47|                           6|        Sometimes|           ['Metal']|['Oven', 'Microwa...|          2595|\n",
      "| overweight|  male|   omnivore|     twice a day|                 wood|walk/bicycle|        NULL|      sometimes|                 157|                       rarely|                         74|        medium|                     3|                       20|                           5|                           7|        Sometimes|['Paper', 'Plasti...|['Microwave', 'Gr...|          1074|\n",
      "|      obese|female| vegetarian|           daily|                 coal|     private|      diesel|          often|                 266|              very frequently|                       8457|         large|                     1|                        3|                           5|                           6|              Yes|           ['Paper']|            ['Oven']|          4743|\n",
      "| overweight|  male| vegetarian| less frequently|                 wood|      public|        NULL|      sometimes|                 144|                   frequently|                        658|         large|                     1|                       22|                          18|                           9|        Sometimes|['Paper', 'Glass'...|['Stove', 'Oven',...|          1647|\n",
      "|underweight|female|      vegan| less frequently|                 wood|     private|      hybrid|          never|                  56|                       rarely|                       5363|        medium|                     4|                        9|                          11|                          19|        Sometimes|                  []|['Grill', 'Airfry...|          1832|\n",
      "|underweight|female|      vegan| more frequently|                 coal|walk/bicycle|        NULL|      sometimes|                  59|              very frequently|                         54|   extra large|                     3|                        5|                          39|                          15|               No|['Paper', 'Plasti...|['Stove', 'Microw...|          2322|\n",
      "| overweight|  male|   omnivore|           daily|                 wood|      public|        NULL|          never|                 200|                   frequently|                       1376|        medium|                     3|                        3|                          31|                          15|              Yes|           ['Glass']|['Microwave', 'Gr...|          2494|\n",
      "|underweight|female|pescatarian|           daily|                 wood|      public|        NULL|          often|                 135|                       rarely|                        440|   extra large|                     1|                        8|                          23|                          18|        Sometimes|           ['Glass']|['Microwave', 'Gr...|          1178|\n",
      "|     normal|female| vegetarian| more frequently|                 wood|      public|        NULL|          never|                 146|                        never|                       1561|   extra large|                     4|                       12|                          27|                          21|               No|['Paper', 'Plastic']|['Stove', 'Microw...|          1427|\n",
      "|      obese|  male| vegetarian| more frequently|                 coal|walk/bicycle|        NULL|          never|                 111|              very frequently|                         69|        medium|                     5|                        9|                           4|                           4|        Sometimes|                  []|['Stove', 'Oven',...|          3226|\n",
      "|underweight|female|   omnivore|     twice a day|                 coal|walk/bicycle|        NULL|          often|                 114|                       rarely|                         92|         large|                     3|                       18|                          27|                           4|              Yes|         ['Plastic']|           ['Stove']|          1593|\n",
      "|underweight|female|      vegan| less frequently|          electricity|     private|         lpg|      sometimes|                 111|                       rarely|                       2893|         large|                     6|                       13|                          16|                          10|        Sometimes|['Plastic', 'Glas...|['Stove', 'Oven',...|          1732|\n",
      "|      obese|  male|pescatarian| less frequently|          natural gas|      public|        NULL|          often|                 123|                       rarely|                       1989|         small|                     6|                       13|                          23|                           8|               No|['Paper', 'Plasti...|   ['Stove', 'Oven']|          1743|\n",
      "| overweight|female| vegetarian| less frequently|          electricity|      public|        NULL|          never|                 225|              very frequently|                        692|         small|                     6|                        9|                          24|                          15|               No|['Paper', 'Plasti...|   ['Stove', 'Oven']|          2101|\n",
      "|     normal|  male|pescatarian| more frequently|          electricity|walk/bicycle|        NULL|          often|                 219|                   frequently|                          7|   extra large|                     4|                       23|                          42|                          14|        Sometimes|                  []|['Oven', 'Microwa...|          2609|\n",
      "| overweight|female|pescatarian|           daily|                 wood|      public|        NULL|          often|                 104|                       rarely|                        948|         large|                     6|                        1|                           6|                          22|              Yes|           ['Paper']|['Stove', 'Grill'...|          1565|\n",
      "|underweight|  male|      vegan| more frequently|          electricity|     private|      petrol|          often|                 126|              very frequently|                       7622|        medium|                     2|                        6|                          37|                           9|        Sometimes|                  []|           ['Stove']|          5272|\n",
      "|     normal|female|   omnivore| more frequently|                 wood|walk/bicycle|        NULL|          often|                 288|                        never|                         51|         small|                     4|                       15|                          22|                           6|               No|['Paper', 'Glass'...|   ['Stove', 'Oven']|          1220|\n",
      "+-----------+------+-----------+----------------+---------------------+------------+------------+---------------+--------------------+-----------------------------+---------------------------+--------------+----------------------+-------------------------+----------------------------+----------------------------+-----------------+--------------------+--------------------+--------------+\n",
      "only showing top 20 rows\n",
      "\n"
     ]
    }
   ],
   "source": [
    "# Load the dataset\n",
    "df_spark = spark.read.csv(\"/Users/cameron-wadecarson/Desktop/CHALLENGES/project4/Resources/Carbon_Emission.csv\", header=True, inferSchema=True)\n",
    "df_spark.show()"
   ]
  },
  {
   "cell_type": "code",
   "execution_count": 3,
   "id": "f2b20f9c",
   "metadata": {},
   "outputs": [
    {
     "name": "stderr",
     "output_type": "stream",
     "text": [
      "                                                                                \r"
     ]
    },
    {
     "name": "stdout",
     "output_type": "stream",
     "text": [
      "    Body Type     Sex         Diet How Often Shower Heating Energy Source  \\\n",
      "0  overweight  female  pescatarian            daily                  coal   \n",
      "1       obese  female   vegetarian  less frequently           natural gas   \n",
      "2  overweight    male     omnivore  more frequently                  wood   \n",
      "3  overweight    male     omnivore      twice a day                  wood   \n",
      "4       obese  female   vegetarian            daily                  coal   \n",
      "\n",
      "      Transport Vehicle Type Social Activity  Monthly Grocery Bill  \\\n",
      "0        public         None           often                   230   \n",
      "1  walk/bicycle         None           often                   114   \n",
      "2       private       petrol           never                   138   \n",
      "3  walk/bicycle         None       sometimes                   157   \n",
      "4       private       diesel           often                   266   \n",
      "\n",
      "  Frequency of Traveling by Air  Vehicle Monthly Distance Km Waste Bag Size  \\\n",
      "0                    frequently                          210          large   \n",
      "1                        rarely                            9    extra large   \n",
      "2                         never                         2472          small   \n",
      "3                        rarely                           74         medium   \n",
      "4               very frequently                         8457          large   \n",
      "\n",
      "   Waste Bag Weekly Count  How Long TV PC Daily Hour  \\\n",
      "0                       4                          7   \n",
      "1                       3                          9   \n",
      "2                       1                         14   \n",
      "3                       3                         20   \n",
      "4                       1                          3   \n",
      "\n",
      "   How Many New Clothes Monthly  How Long Internet Daily Hour  \\\n",
      "0                            26                             1   \n",
      "1                            38                             5   \n",
      "2                            47                             6   \n",
      "3                             5                             7   \n",
      "4                             5                             6   \n",
      "\n",
      "  Energy efficiency                               Recycling  \\\n",
      "0                No                               ['Metal']   \n",
      "1                No                               ['Metal']   \n",
      "2         Sometimes                               ['Metal']   \n",
      "3         Sometimes  ['Paper', 'Plastic', 'Glass', 'Metal']   \n",
      "4               Yes                               ['Paper']   \n",
      "\n",
      "                         Cooking_With  CarbonEmission  \n",
      "0                   ['Stove', 'Oven']            2238  \n",
      "1              ['Stove', 'Microwave']            1892  \n",
      "2               ['Oven', 'Microwave']            2595  \n",
      "3  ['Microwave', 'Grill', 'Airfryer']            1074  \n",
      "4                            ['Oven']            4743  \n"
     ]
    }
   ],
   "source": [
    "df = df_spark.toPandas()\n",
    "print(df.head())"
   ]
  },
  {
   "cell_type": "code",
   "execution_count": 7,
   "id": "3283e1f3",
   "metadata": {},
   "outputs": [],
   "source": [
    "# Assuming df is your DataFrame and the columns you listed are the ones with categorical data\n",
    "categorical_columns = ['Body Type', 'Sex', 'Diet', 'How Often Shower', 'Heating Energy Source', 'Transport', 'Vehicle Type', 'Social Activity', 'Frequency of Traveling by Air', 'Waste Bag Size', 'Energy efficiency', 'Recycling', 'Cooking_With']\n",
    "\n",
    "# Convert categorical variables into numerical ones\n",
    "df2 = pd.get_dummies(df, columns=categorical_columns)"
   ]
  },
  {
   "cell_type": "code",
   "execution_count": 8,
   "id": "52d38243",
   "metadata": {},
   "outputs": [],
   "source": [
    "from sklearn.ensemble import RandomForestRegressor\n",
    "from sklearn.model_selection import train_test_split"
   ]
  },
  {
   "cell_type": "code",
   "execution_count": 9,
   "id": "c4568eaf",
   "metadata": {},
   "outputs": [],
   "source": [
    "# Split data into inputs and target\n",
    "X = df2.drop(columns=['CarbonEmission'])\n",
    "y = df2['CarbonEmission']"
   ]
  },
  {
   "cell_type": "code",
   "execution_count": 10,
   "id": "586ed43f",
   "metadata": {},
   "outputs": [],
   "source": [
    "# Split data into training and testing sets\n",
    "X_train, X_test, y_train, y_test = train_test_split(X, y, test_size=0.2, random_state=42)\n"
   ]
  },
  {
   "cell_type": "code",
   "execution_count": 11,
   "id": "cb6af7e0",
   "metadata": {},
   "outputs": [],
   "source": [
    "# Create a Random Forest Regressor model\n",
    "model = RandomForestRegressor(n_estimators=100, random_state=42)"
   ]
  },
  {
   "cell_type": "code",
   "execution_count": 12,
   "id": "d8f1bbe5",
   "metadata": {},
   "outputs": [
    {
     "data": {
      "text/html": [
       "<style>#sk-container-id-1 {color: black;}#sk-container-id-1 pre{padding: 0;}#sk-container-id-1 div.sk-toggleable {background-color: white;}#sk-container-id-1 label.sk-toggleable__label {cursor: pointer;display: block;width: 100%;margin-bottom: 0;padding: 0.3em;box-sizing: border-box;text-align: center;}#sk-container-id-1 label.sk-toggleable__label-arrow:before {content: \"▸\";float: left;margin-right: 0.25em;color: #696969;}#sk-container-id-1 label.sk-toggleable__label-arrow:hover:before {color: black;}#sk-container-id-1 div.sk-estimator:hover label.sk-toggleable__label-arrow:before {color: black;}#sk-container-id-1 div.sk-toggleable__content {max-height: 0;max-width: 0;overflow: hidden;text-align: left;background-color: #f0f8ff;}#sk-container-id-1 div.sk-toggleable__content pre {margin: 0.2em;color: black;border-radius: 0.25em;background-color: #f0f8ff;}#sk-container-id-1 input.sk-toggleable__control:checked~div.sk-toggleable__content {max-height: 200px;max-width: 100%;overflow: auto;}#sk-container-id-1 input.sk-toggleable__control:checked~label.sk-toggleable__label-arrow:before {content: \"▾\";}#sk-container-id-1 div.sk-estimator input.sk-toggleable__control:checked~label.sk-toggleable__label {background-color: #d4ebff;}#sk-container-id-1 div.sk-label input.sk-toggleable__control:checked~label.sk-toggleable__label {background-color: #d4ebff;}#sk-container-id-1 input.sk-hidden--visually {border: 0;clip: rect(1px 1px 1px 1px);clip: rect(1px, 1px, 1px, 1px);height: 1px;margin: -1px;overflow: hidden;padding: 0;position: absolute;width: 1px;}#sk-container-id-1 div.sk-estimator {font-family: monospace;background-color: #f0f8ff;border: 1px dotted black;border-radius: 0.25em;box-sizing: border-box;margin-bottom: 0.5em;}#sk-container-id-1 div.sk-estimator:hover {background-color: #d4ebff;}#sk-container-id-1 div.sk-parallel-item::after {content: \"\";width: 100%;border-bottom: 1px solid gray;flex-grow: 1;}#sk-container-id-1 div.sk-label:hover label.sk-toggleable__label {background-color: #d4ebff;}#sk-container-id-1 div.sk-serial::before {content: \"\";position: absolute;border-left: 1px solid gray;box-sizing: border-box;top: 0;bottom: 0;left: 50%;z-index: 0;}#sk-container-id-1 div.sk-serial {display: flex;flex-direction: column;align-items: center;background-color: white;padding-right: 0.2em;padding-left: 0.2em;position: relative;}#sk-container-id-1 div.sk-item {position: relative;z-index: 1;}#sk-container-id-1 div.sk-parallel {display: flex;align-items: stretch;justify-content: center;background-color: white;position: relative;}#sk-container-id-1 div.sk-item::before, #sk-container-id-1 div.sk-parallel-item::before {content: \"\";position: absolute;border-left: 1px solid gray;box-sizing: border-box;top: 0;bottom: 0;left: 50%;z-index: -1;}#sk-container-id-1 div.sk-parallel-item {display: flex;flex-direction: column;z-index: 1;position: relative;background-color: white;}#sk-container-id-1 div.sk-parallel-item:first-child::after {align-self: flex-end;width: 50%;}#sk-container-id-1 div.sk-parallel-item:last-child::after {align-self: flex-start;width: 50%;}#sk-container-id-1 div.sk-parallel-item:only-child::after {width: 0;}#sk-container-id-1 div.sk-dashed-wrapped {border: 1px dashed gray;margin: 0 0.4em 0.5em 0.4em;box-sizing: border-box;padding-bottom: 0.4em;background-color: white;}#sk-container-id-1 div.sk-label label {font-family: monospace;font-weight: bold;display: inline-block;line-height: 1.2em;}#sk-container-id-1 div.sk-label-container {text-align: center;}#sk-container-id-1 div.sk-container {/* jupyter's `normalize.less` sets `[hidden] { display: none; }` but bootstrap.min.css set `[hidden] { display: none !important; }` so we also need the `!important` here to be able to override the default hidden behavior on the sphinx rendered scikit-learn.org. See: https://github.com/scikit-learn/scikit-learn/issues/21755 */display: inline-block !important;position: relative;}#sk-container-id-1 div.sk-text-repr-fallback {display: none;}</style><div id=\"sk-container-id-1\" class=\"sk-top-container\"><div class=\"sk-text-repr-fallback\"><pre>RandomForestRegressor(random_state=42)</pre><b>In a Jupyter environment, please rerun this cell to show the HTML representation or trust the notebook. <br />On GitHub, the HTML representation is unable to render, please try loading this page with nbviewer.org.</b></div><div class=\"sk-container\" hidden><div class=\"sk-item\"><div class=\"sk-estimator sk-toggleable\"><input class=\"sk-toggleable__control sk-hidden--visually\" id=\"sk-estimator-id-1\" type=\"checkbox\" checked><label for=\"sk-estimator-id-1\" class=\"sk-toggleable__label sk-toggleable__label-arrow\">RandomForestRegressor</label><div class=\"sk-toggleable__content\"><pre>RandomForestRegressor(random_state=42)</pre></div></div></div></div></div>"
      ],
      "text/plain": [
       "RandomForestRegressor(random_state=42)"
      ]
     },
     "execution_count": 12,
     "metadata": {},
     "output_type": "execute_result"
    }
   ],
   "source": [
    "# Train the model\n",
    "model.fit(X_train, y_train)"
   ]
  },
  {
   "cell_type": "code",
   "execution_count": 26,
   "id": "1b531df7",
   "metadata": {},
   "outputs": [
    {
     "data": {
      "text/html": [
       "<div>\n",
       "<style scoped>\n",
       "    .dataframe tbody tr th:only-of-type {\n",
       "        vertical-align: middle;\n",
       "    }\n",
       "\n",
       "    .dataframe tbody tr th {\n",
       "        vertical-align: top;\n",
       "    }\n",
       "\n",
       "    .dataframe thead th {\n",
       "        text-align: right;\n",
       "    }\n",
       "</style>\n",
       "<table border=\"1\" class=\"dataframe\">\n",
       "  <thead>\n",
       "    <tr style=\"text-align: right;\">\n",
       "      <th></th>\n",
       "      <th>Body Type</th>\n",
       "      <th>Sex</th>\n",
       "      <th>Diet</th>\n",
       "      <th>How Often Shower</th>\n",
       "      <th>Heating Energy Source</th>\n",
       "      <th>Transport</th>\n",
       "      <th>Vehicle Type</th>\n",
       "      <th>Social Activity</th>\n",
       "      <th>Monthly Grocery Bill</th>\n",
       "      <th>Frequency of Traveling by Air</th>\n",
       "      <th>Vehicle Monthly Distance Km</th>\n",
       "      <th>Waste Bag Size</th>\n",
       "      <th>Waste Bag Weekly Count</th>\n",
       "      <th>How Long TV PC Daily Hour</th>\n",
       "      <th>How Many New Clothes Monthly</th>\n",
       "      <th>How Long Internet Daily Hour</th>\n",
       "      <th>Energy efficiency</th>\n",
       "      <th>Recycling</th>\n",
       "      <th>Cooking_With</th>\n",
       "      <th>CarbonEmission</th>\n",
       "    </tr>\n",
       "  </thead>\n",
       "  <tbody>\n",
       "    <tr>\n",
       "      <th>0</th>\n",
       "      <td>normal</td>\n",
       "      <td>male</td>\n",
       "      <td>omnivore</td>\n",
       "      <td>daily</td>\n",
       "      <td>electricity</td>\n",
       "      <td>private</td>\n",
       "      <td>petrol</td>\n",
       "      <td>often</td>\n",
       "      <td>250</td>\n",
       "      <td>rarely</td>\n",
       "      <td>689</td>\n",
       "      <td>medium</td>\n",
       "      <td>4</td>\n",
       "      <td>8</td>\n",
       "      <td>3</td>\n",
       "      <td>16</td>\n",
       "      <td>sometimes</td>\n",
       "      <td>['metal']</td>\n",
       "      <td>['stove']</td>\n",
       "      <td>NaN</td>\n",
       "    </tr>\n",
       "  </tbody>\n",
       "</table>\n",
       "</div>"
      ],
      "text/plain": [
       "  Body Type   Sex      Diet How Often Shower Heating Energy Source Transport  \\\n",
       "0    normal  male  omnivore            daily           electricity   private   \n",
       "\n",
       "  Vehicle Type Social Activity  Monthly Grocery Bill  \\\n",
       "0       petrol           often                   250   \n",
       "\n",
       "  Frequency of Traveling by Air  Vehicle Monthly Distance Km Waste Bag Size  \\\n",
       "0                        rarely                          689         medium   \n",
       "\n",
       "   Waste Bag Weekly Count  How Long TV PC Daily Hour  \\\n",
       "0                       4                          8   \n",
       "\n",
       "   How Many New Clothes Monthly  How Long Internet Daily Hour  \\\n",
       "0                             3                            16   \n",
       "\n",
       "  Energy efficiency  Recycling Cooking_With  CarbonEmission  \n",
       "0         sometimes  ['metal']    ['stove']             NaN  "
      ]
     },
     "execution_count": 26,
     "metadata": {},
     "output_type": "execute_result"
    }
   ],
   "source": [
    "# read in our personal data excel sheet\n",
    "personal_data = pd.read_excel(\"personal_data.xlsx\")\n",
    "personal_data.head()"
   ]
  },
  {
   "cell_type": "code",
   "execution_count": 27,
   "id": "4da65400",
   "metadata": {},
   "outputs": [
    {
     "name": "stdout",
     "output_type": "stream",
     "text": [
      "Your predicted carbon emissions are below the average.\n"
     ]
    }
   ],
   "source": [
    "personal_data_encoded = pd.get_dummies(personal_data)\n",
    "\n",
    "# ensure all columns present in the training data are also present in personal data after one-hot encoding\n",
    "missing_cols = set(X.columns) - set(personal_data_encoded.columns)\n",
    "for col in missing_cols:\n",
    "    personal_data_encoded[col] = 0\n",
    "\n",
    "# reorder columns to match the order in the training data\n",
    "personal_data_encoded = personal_data_encoded[X.columns]\n",
    "\n",
    "predictions = model.predict(personal_data_encoded)\n",
    "\n",
    "average_carbon_emission = df['CarbonEmission'].mean()\n",
    "\n",
    "# compare predictions with average\n",
    "for prediction in predictions:\n",
    "    if prediction > average_carbon_emission:\n",
    "        print(\"Your predicted carbon emissions are above the average.\")\n",
    "    else:\n",
    "        print(\"Your predicted carbon emissions are below the average.\")"
   ]
  }
 ],
 "metadata": {
  "kernelspec": {
   "display_name": "Python 3 (ipykernel)",
   "language": "python",
   "name": "python3"
  },
  "language_info": {
   "codemirror_mode": {
    "name": "ipython",
    "version": 3
   },
   "file_extension": ".py",
   "mimetype": "text/x-python",
   "name": "python",
   "nbconvert_exporter": "python",
   "pygments_lexer": "ipython3",
   "version": "3.11.4"
  }
 },
 "nbformat": 4,
 "nbformat_minor": 5
}
